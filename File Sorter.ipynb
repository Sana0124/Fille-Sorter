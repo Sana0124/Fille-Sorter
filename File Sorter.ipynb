{
 "cells": [
  {
   "cell_type": "code",
   "execution_count": 92,
   "id": "7eba390d-2a57-453c-8b5c-1a2aa4ee82b2",
   "metadata": {},
   "outputs": [],
   "source": [
    "import os, shutil"
   ]
  },
  {
   "cell_type": "code",
   "execution_count": 93,
   "id": "a21e6a7f-78b6-4f92-8515-2419bc1ae0af",
   "metadata": {},
   "outputs": [],
   "source": [
    "import re"
   ]
  },
  {
   "cell_type": "code",
   "execution_count": 94,
   "id": "ba2bc137-9d16-4572-90f0-2350cb56fc2a",
   "metadata": {},
   "outputs": [],
   "source": [
    "path = r\"/Users/abcsfj/Desktop/Folder/\""
   ]
  },
  {
   "cell_type": "code",
   "execution_count": 95,
   "id": "e997d55b-7653-45a1-8794-8af702f297ad",
   "metadata": {
    "scrolled": true
   },
   "outputs": [],
   "source": [
    "file_name= os.listdir(path)"
   ]
  },
  {
   "cell_type": "markdown",
   "id": "4cad45d8-6e82-4f33-adf8-71a27872992e",
   "metadata": {},
   "source": [
    "#### Creates folder"
   ]
  },
  {
   "cell_type": "code",
   "execution_count": 96,
   "id": "8524daa2-f787-43af-b784-84204e001013",
   "metadata": {},
   "outputs": [],
   "source": [
    "folder_name = ['Financial_Analyst','Risk','Data_Analyst']\n",
    "for loop in range (0,3):\n",
    "    if not os.path.exists(path + folder_names[loop]):\n",
    "        print(path + folder_name[loop])\n",
    "        os.makedirs(path + folder_name[loop])"
   ]
  },
  {
   "cell_type": "code",
   "execution_count": 97,
   "id": "ea11848a-4ab1-4cd3-b9a9-27267c0db7ed",
   "metadata": {},
   "outputs": [],
   "source": [
    "# pattern = re.compile(r\"Financial[\\s_]?Analyst\", re.IGNORECASE)"
   ]
  },
  {
   "cell_type": "markdown",
   "id": "67e463d0-862e-4d13-aeaa-8a9cdf86d9d9",
   "metadata": {},
   "source": [
    "#### Moves the file"
   ]
  },
  {
   "cell_type": "code",
   "execution_count": 98,
   "id": "d74395fe-287a-4502-9ca8-1293c5db5e50",
   "metadata": {},
   "outputs": [],
   "source": [
    "for file in file_name:\n",
    "    if \"FA\" in file and not os.path.exists(path + \"Financial_Analyst/\" + file):\n",
    "        # print(f\"Moving file: {file}\")\n",
    "        shutil.move(path + file, path + \"Financial_Analyst/\" + file)\n",
    "    elif (\"DA\" in file or \"Data Analyst\" in file )and not os.path.exists(path + \"Data_Analyst/\" + file):\n",
    "        shutil.move(path + file, path + \"Data_Analyst/\" + file)\n",
    "    elif (\"Credit_Risk\" in file or \"MorganStanley\" in file ) and not os.path.exists(path + \"Risk/\" + file):\n",
    "       shutil.move(path + file, path + \"Risk/\" + file)\n",
    "   \n",
    "   "
   ]
  },
  {
   "cell_type": "markdown",
   "id": "dbe262a9-2c57-409a-88e8-bd6b12826d03",
   "metadata": {},
   "source": [
    "#### If already a file then how to combine and move"
   ]
  },
  {
   "cell_type": "code",
   "execution_count": 99,
   "id": "360f978d-689a-4067-bed8-1ab6c12f55da",
   "metadata": {},
   "outputs": [],
   "source": [
    "for file in file_name:\n",
    "    full_file_path = os.path.join(path, file)\n",
    "\n",
    "    if os.path.isdir(full_file_path):\n",
    "        continue\n",
    "    if (\"FA\" in file or \"FinancialAnalyst\" in file or \"Financial\" in file) and not os.path.exists(os.path.join(path, \"Financial_Analyst\", file)):\n",
    "        print(f\"Moving file: {file}\")\n",
    "        shutil.move(full_file_path, os.path.join(path, \"Financial_Analyst\", file))\n"
   ]
  },
  {
   "cell_type": "markdown",
   "id": "1c4aa160-3d6d-4911-9cca-0325ccaaffef",
   "metadata": {},
   "source": [
    "#### Complete Code"
   ]
  },
  {
   "cell_type": "code",
   "execution_count": 86,
   "id": "6196d3dc-12a5-4aeb-8db5-7484eb61dfa5",
   "metadata": {},
   "outputs": [],
   "source": [
    "folder_name = ['Financial_Analyst','Risk','Data_Analyst']\n",
    "for loop in range (0,3):\n",
    "    if not os.path.exists(path + folder_names[loop]):\n",
    "        print(path + folder_name[loop])\n",
    "        os.makedirs(path + folder_name[loop])\n",
    "        \n",
    "for file in file_name:\n",
    "    if \"FA\" in file and not os.path.exists(path + \"Financial_Analyst/\" + file):\n",
    "        # print(f\"Moving file: {file}\")\n",
    "        shutil.move(path + file, path + \"Financial_Analyst/\" + file)\n",
    "    elif (\"DA\" in file or \"Data Analyst\" in file )and not os.path.exists(path + \"Data_Analyst/\" + file):\n",
    "        shutil.move(path + file, path + \"Data_Analyst/\" + file)\n",
    "    elif (\"Credit_Risk\" in file or \"MorganStanley\" in file ) and not os.path.exists(path + \"Risk/\" + file):\n",
    "       shutil.move(path + file, path + \"Risk/\" + file)"
   ]
  },
  {
   "cell_type": "code",
   "execution_count": null,
   "id": "258f69a9-7c2d-45fc-8bbd-873c927e0b78",
   "metadata": {},
   "outputs": [],
   "source": []
  }
 ],
 "metadata": {
  "kernelspec": {
   "display_name": "Python 3 (ipykernel)",
   "language": "python",
   "name": "python3"
  },
  "language_info": {
   "codemirror_mode": {
    "name": "ipython",
    "version": 3
   },
   "file_extension": ".py",
   "mimetype": "text/x-python",
   "name": "python",
   "nbconvert_exporter": "python",
   "pygments_lexer": "ipython3",
   "version": "3.12.1"
  }
 },
 "nbformat": 4,
 "nbformat_minor": 5
}
